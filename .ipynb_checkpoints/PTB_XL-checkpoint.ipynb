{
 "cells": [
  {
   "cell_type": "code",
   "execution_count": 1,
   "metadata": {},
   "outputs": [],
   "source": [
    "#pip install wfdb"
   ]
  },
  {
   "cell_type": "code",
   "execution_count": 2,
   "metadata": {},
   "outputs": [],
   "source": [
    "import pandas as pd\n",
    "import numpy as np\n",
    "import wfdb\n",
    "import ast"
   ]
  },
  {
   "cell_type": "code",
   "execution_count": 3,
   "metadata": {},
   "outputs": [
    {
     "data": {
      "text/html": [
       "<div>\n",
       "<style scoped>\n",
       "    .dataframe tbody tr th:only-of-type {\n",
       "        vertical-align: middle;\n",
       "    }\n",
       "\n",
       "    .dataframe tbody tr th {\n",
       "        vertical-align: top;\n",
       "    }\n",
       "\n",
       "    .dataframe thead th {\n",
       "        text-align: right;\n",
       "    }\n",
       "</style>\n",
       "<table border=\"1\" class=\"dataframe\">\n",
       "  <thead>\n",
       "    <tr style=\"text-align: right;\">\n",
       "      <th></th>\n",
       "      <th>patient_id</th>\n",
       "      <th>age</th>\n",
       "      <th>sex</th>\n",
       "      <th>height</th>\n",
       "      <th>weight</th>\n",
       "      <th>nurse</th>\n",
       "      <th>site</th>\n",
       "      <th>device</th>\n",
       "      <th>recording_date</th>\n",
       "      <th>report</th>\n",
       "      <th>...</th>\n",
       "      <th>validated_by_human</th>\n",
       "      <th>baseline_drift</th>\n",
       "      <th>static_noise</th>\n",
       "      <th>burst_noise</th>\n",
       "      <th>electrodes_problems</th>\n",
       "      <th>extra_beats</th>\n",
       "      <th>pacemaker</th>\n",
       "      <th>strat_fold</th>\n",
       "      <th>filename_lr</th>\n",
       "      <th>filename_hr</th>\n",
       "    </tr>\n",
       "    <tr>\n",
       "      <th>ecg_id</th>\n",
       "      <th></th>\n",
       "      <th></th>\n",
       "      <th></th>\n",
       "      <th></th>\n",
       "      <th></th>\n",
       "      <th></th>\n",
       "      <th></th>\n",
       "      <th></th>\n",
       "      <th></th>\n",
       "      <th></th>\n",
       "      <th></th>\n",
       "      <th></th>\n",
       "      <th></th>\n",
       "      <th></th>\n",
       "      <th></th>\n",
       "      <th></th>\n",
       "      <th></th>\n",
       "      <th></th>\n",
       "      <th></th>\n",
       "      <th></th>\n",
       "      <th></th>\n",
       "    </tr>\n",
       "  </thead>\n",
       "  <tbody>\n",
       "    <tr>\n",
       "      <th>1</th>\n",
       "      <td>15709.0</td>\n",
       "      <td>56.0</td>\n",
       "      <td>1</td>\n",
       "      <td>NaN</td>\n",
       "      <td>63.0</td>\n",
       "      <td>2.0</td>\n",
       "      <td>0.0</td>\n",
       "      <td>CS-12   E</td>\n",
       "      <td>1984-11-09 09:17:34</td>\n",
       "      <td>sinusrhythmus periphere niederspannung</td>\n",
       "      <td>...</td>\n",
       "      <td>True</td>\n",
       "      <td>NaN</td>\n",
       "      <td>, I-V1,</td>\n",
       "      <td>NaN</td>\n",
       "      <td>NaN</td>\n",
       "      <td>NaN</td>\n",
       "      <td>NaN</td>\n",
       "      <td>3</td>\n",
       "      <td>records100/00000/00001_lr</td>\n",
       "      <td>records500/00000/00001_hr</td>\n",
       "    </tr>\n",
       "    <tr>\n",
       "      <th>2</th>\n",
       "      <td>13243.0</td>\n",
       "      <td>19.0</td>\n",
       "      <td>0</td>\n",
       "      <td>NaN</td>\n",
       "      <td>70.0</td>\n",
       "      <td>2.0</td>\n",
       "      <td>0.0</td>\n",
       "      <td>CS-12   E</td>\n",
       "      <td>1984-11-14 12:55:37</td>\n",
       "      <td>sinusbradykardie sonst normales ekg</td>\n",
       "      <td>...</td>\n",
       "      <td>True</td>\n",
       "      <td>NaN</td>\n",
       "      <td>NaN</td>\n",
       "      <td>NaN</td>\n",
       "      <td>NaN</td>\n",
       "      <td>NaN</td>\n",
       "      <td>NaN</td>\n",
       "      <td>2</td>\n",
       "      <td>records100/00000/00002_lr</td>\n",
       "      <td>records500/00000/00002_hr</td>\n",
       "    </tr>\n",
       "    <tr>\n",
       "      <th>3</th>\n",
       "      <td>20372.0</td>\n",
       "      <td>37.0</td>\n",
       "      <td>1</td>\n",
       "      <td>NaN</td>\n",
       "      <td>69.0</td>\n",
       "      <td>2.0</td>\n",
       "      <td>0.0</td>\n",
       "      <td>CS-12   E</td>\n",
       "      <td>1984-11-15 12:49:10</td>\n",
       "      <td>sinusrhythmus normales ekg</td>\n",
       "      <td>...</td>\n",
       "      <td>True</td>\n",
       "      <td>NaN</td>\n",
       "      <td>NaN</td>\n",
       "      <td>NaN</td>\n",
       "      <td>NaN</td>\n",
       "      <td>NaN</td>\n",
       "      <td>NaN</td>\n",
       "      <td>5</td>\n",
       "      <td>records100/00000/00003_lr</td>\n",
       "      <td>records500/00000/00003_hr</td>\n",
       "    </tr>\n",
       "    <tr>\n",
       "      <th>4</th>\n",
       "      <td>17014.0</td>\n",
       "      <td>24.0</td>\n",
       "      <td>0</td>\n",
       "      <td>NaN</td>\n",
       "      <td>82.0</td>\n",
       "      <td>2.0</td>\n",
       "      <td>0.0</td>\n",
       "      <td>CS-12   E</td>\n",
       "      <td>1984-11-15 13:44:57</td>\n",
       "      <td>sinusrhythmus normales ekg</td>\n",
       "      <td>...</td>\n",
       "      <td>True</td>\n",
       "      <td>, II,III,AVF</td>\n",
       "      <td>NaN</td>\n",
       "      <td>NaN</td>\n",
       "      <td>NaN</td>\n",
       "      <td>NaN</td>\n",
       "      <td>NaN</td>\n",
       "      <td>3</td>\n",
       "      <td>records100/00000/00004_lr</td>\n",
       "      <td>records500/00000/00004_hr</td>\n",
       "    </tr>\n",
       "    <tr>\n",
       "      <th>5</th>\n",
       "      <td>17448.0</td>\n",
       "      <td>19.0</td>\n",
       "      <td>1</td>\n",
       "      <td>NaN</td>\n",
       "      <td>70.0</td>\n",
       "      <td>2.0</td>\n",
       "      <td>0.0</td>\n",
       "      <td>CS-12   E</td>\n",
       "      <td>1984-11-17 10:43:15</td>\n",
       "      <td>sinusrhythmus normales ekg</td>\n",
       "      <td>...</td>\n",
       "      <td>True</td>\n",
       "      <td>, III,AVR,AVF</td>\n",
       "      <td>NaN</td>\n",
       "      <td>NaN</td>\n",
       "      <td>NaN</td>\n",
       "      <td>NaN</td>\n",
       "      <td>NaN</td>\n",
       "      <td>4</td>\n",
       "      <td>records100/00000/00005_lr</td>\n",
       "      <td>records500/00000/00005_hr</td>\n",
       "    </tr>\n",
       "    <tr>\n",
       "      <th>...</th>\n",
       "      <td>...</td>\n",
       "      <td>...</td>\n",
       "      <td>...</td>\n",
       "      <td>...</td>\n",
       "      <td>...</td>\n",
       "      <td>...</td>\n",
       "      <td>...</td>\n",
       "      <td>...</td>\n",
       "      <td>...</td>\n",
       "      <td>...</td>\n",
       "      <td>...</td>\n",
       "      <td>...</td>\n",
       "      <td>...</td>\n",
       "      <td>...</td>\n",
       "      <td>...</td>\n",
       "      <td>...</td>\n",
       "      <td>...</td>\n",
       "      <td>...</td>\n",
       "      <td>...</td>\n",
       "      <td>...</td>\n",
       "      <td>...</td>\n",
       "    </tr>\n",
       "    <tr>\n",
       "      <th>21833</th>\n",
       "      <td>17180.0</td>\n",
       "      <td>67.0</td>\n",
       "      <td>1</td>\n",
       "      <td>NaN</td>\n",
       "      <td>NaN</td>\n",
       "      <td>1.0</td>\n",
       "      <td>2.0</td>\n",
       "      <td>AT-60    3</td>\n",
       "      <td>2001-05-31 09:14:35</td>\n",
       "      <td>ventrikulÄre extrasystole(n) sinustachykardie ...</td>\n",
       "      <td>...</td>\n",
       "      <td>True</td>\n",
       "      <td>NaN</td>\n",
       "      <td>, alles,</td>\n",
       "      <td>NaN</td>\n",
       "      <td>NaN</td>\n",
       "      <td>1ES</td>\n",
       "      <td>NaN</td>\n",
       "      <td>7</td>\n",
       "      <td>records100/21000/21833_lr</td>\n",
       "      <td>records500/21000/21833_hr</td>\n",
       "    </tr>\n",
       "    <tr>\n",
       "      <th>21834</th>\n",
       "      <td>20703.0</td>\n",
       "      <td>93.0</td>\n",
       "      <td>0</td>\n",
       "      <td>NaN</td>\n",
       "      <td>NaN</td>\n",
       "      <td>1.0</td>\n",
       "      <td>2.0</td>\n",
       "      <td>AT-60    3</td>\n",
       "      <td>2001-06-05 11:33:39</td>\n",
       "      <td>sinusrhythmus lagetyp normal qrs(t) abnorm    ...</td>\n",
       "      <td>...</td>\n",
       "      <td>True</td>\n",
       "      <td>NaN</td>\n",
       "      <td>NaN</td>\n",
       "      <td>NaN</td>\n",
       "      <td>NaN</td>\n",
       "      <td>NaN</td>\n",
       "      <td>NaN</td>\n",
       "      <td>4</td>\n",
       "      <td>records100/21000/21834_lr</td>\n",
       "      <td>records500/21000/21834_hr</td>\n",
       "    </tr>\n",
       "    <tr>\n",
       "      <th>21835</th>\n",
       "      <td>19311.0</td>\n",
       "      <td>59.0</td>\n",
       "      <td>1</td>\n",
       "      <td>NaN</td>\n",
       "      <td>NaN</td>\n",
       "      <td>1.0</td>\n",
       "      <td>2.0</td>\n",
       "      <td>AT-60    3</td>\n",
       "      <td>2001-06-08 10:30:27</td>\n",
       "      <td>sinusrhythmus lagetyp normal t abnorm in anter...</td>\n",
       "      <td>...</td>\n",
       "      <td>True</td>\n",
       "      <td>NaN</td>\n",
       "      <td>, I-AVR,</td>\n",
       "      <td>NaN</td>\n",
       "      <td>NaN</td>\n",
       "      <td>NaN</td>\n",
       "      <td>NaN</td>\n",
       "      <td>2</td>\n",
       "      <td>records100/21000/21835_lr</td>\n",
       "      <td>records500/21000/21835_hr</td>\n",
       "    </tr>\n",
       "    <tr>\n",
       "      <th>21836</th>\n",
       "      <td>8873.0</td>\n",
       "      <td>64.0</td>\n",
       "      <td>1</td>\n",
       "      <td>NaN</td>\n",
       "      <td>NaN</td>\n",
       "      <td>1.0</td>\n",
       "      <td>2.0</td>\n",
       "      <td>AT-60    3</td>\n",
       "      <td>2001-06-09 18:21:49</td>\n",
       "      <td>supraventrikulÄre extrasystole(n) sinusrhythmu...</td>\n",
       "      <td>...</td>\n",
       "      <td>True</td>\n",
       "      <td>NaN</td>\n",
       "      <td>NaN</td>\n",
       "      <td>NaN</td>\n",
       "      <td>NaN</td>\n",
       "      <td>SVES</td>\n",
       "      <td>NaN</td>\n",
       "      <td>8</td>\n",
       "      <td>records100/21000/21836_lr</td>\n",
       "      <td>records500/21000/21836_hr</td>\n",
       "    </tr>\n",
       "    <tr>\n",
       "      <th>21837</th>\n",
       "      <td>11744.0</td>\n",
       "      <td>68.0</td>\n",
       "      <td>0</td>\n",
       "      <td>NaN</td>\n",
       "      <td>NaN</td>\n",
       "      <td>1.0</td>\n",
       "      <td>2.0</td>\n",
       "      <td>AT-60    3</td>\n",
       "      <td>2001-06-11 16:43:01</td>\n",
       "      <td>sinusrhythmus p-sinistrocardiale lagetyp norma...</td>\n",
       "      <td>...</td>\n",
       "      <td>True</td>\n",
       "      <td>NaN</td>\n",
       "      <td>, I-AVL,</td>\n",
       "      <td>NaN</td>\n",
       "      <td>NaN</td>\n",
       "      <td>NaN</td>\n",
       "      <td>NaN</td>\n",
       "      <td>9</td>\n",
       "      <td>records100/21000/21837_lr</td>\n",
       "      <td>records500/21000/21837_hr</td>\n",
       "    </tr>\n",
       "  </tbody>\n",
       "</table>\n",
       "<p>21837 rows × 27 columns</p>\n",
       "</div>"
      ],
      "text/plain": [
       "        patient_id   age  sex  height  weight  nurse  site      device  \\\n",
       "ecg_id                                                                   \n",
       "1          15709.0  56.0    1     NaN    63.0    2.0   0.0   CS-12   E   \n",
       "2          13243.0  19.0    0     NaN    70.0    2.0   0.0   CS-12   E   \n",
       "3          20372.0  37.0    1     NaN    69.0    2.0   0.0   CS-12   E   \n",
       "4          17014.0  24.0    0     NaN    82.0    2.0   0.0   CS-12   E   \n",
       "5          17448.0  19.0    1     NaN    70.0    2.0   0.0   CS-12   E   \n",
       "...            ...   ...  ...     ...     ...    ...   ...         ...   \n",
       "21833      17180.0  67.0    1     NaN     NaN    1.0   2.0  AT-60    3   \n",
       "21834      20703.0  93.0    0     NaN     NaN    1.0   2.0  AT-60    3   \n",
       "21835      19311.0  59.0    1     NaN     NaN    1.0   2.0  AT-60    3   \n",
       "21836       8873.0  64.0    1     NaN     NaN    1.0   2.0  AT-60    3   \n",
       "21837      11744.0  68.0    0     NaN     NaN    1.0   2.0  AT-60    3   \n",
       "\n",
       "             recording_date  \\\n",
       "ecg_id                        \n",
       "1       1984-11-09 09:17:34   \n",
       "2       1984-11-14 12:55:37   \n",
       "3       1984-11-15 12:49:10   \n",
       "4       1984-11-15 13:44:57   \n",
       "5       1984-11-17 10:43:15   \n",
       "...                     ...   \n",
       "21833   2001-05-31 09:14:35   \n",
       "21834   2001-06-05 11:33:39   \n",
       "21835   2001-06-08 10:30:27   \n",
       "21836   2001-06-09 18:21:49   \n",
       "21837   2001-06-11 16:43:01   \n",
       "\n",
       "                                                   report  ...  \\\n",
       "ecg_id                                                     ...   \n",
       "1                  sinusrhythmus periphere niederspannung  ...   \n",
       "2                     sinusbradykardie sonst normales ekg  ...   \n",
       "3                              sinusrhythmus normales ekg  ...   \n",
       "4                              sinusrhythmus normales ekg  ...   \n",
       "5                              sinusrhythmus normales ekg  ...   \n",
       "...                                                   ...  ...   \n",
       "21833   ventrikulÄre extrasystole(n) sinustachykardie ...  ...   \n",
       "21834   sinusrhythmus lagetyp normal qrs(t) abnorm    ...  ...   \n",
       "21835   sinusrhythmus lagetyp normal t abnorm in anter...  ...   \n",
       "21836   supraventrikulÄre extrasystole(n) sinusrhythmu...  ...   \n",
       "21837   sinusrhythmus p-sinistrocardiale lagetyp norma...  ...   \n",
       "\n",
       "       validated_by_human  baseline_drift static_noise burst_noise  \\\n",
       "ecg_id                                                               \n",
       "1                    True             NaN    , I-V1,           NaN   \n",
       "2                    True             NaN          NaN         NaN   \n",
       "3                    True             NaN          NaN         NaN   \n",
       "4                    True    , II,III,AVF          NaN         NaN   \n",
       "5                    True   , III,AVR,AVF          NaN         NaN   \n",
       "...                   ...             ...          ...         ...   \n",
       "21833                True             NaN   , alles,           NaN   \n",
       "21834                True             NaN          NaN         NaN   \n",
       "21835                True             NaN   , I-AVR,           NaN   \n",
       "21836                True             NaN          NaN         NaN   \n",
       "21837                True             NaN   , I-AVL,           NaN   \n",
       "\n",
       "        electrodes_problems  extra_beats  pacemaker  strat_fold  \\\n",
       "ecg_id                                                            \n",
       "1                       NaN          NaN        NaN           3   \n",
       "2                       NaN          NaN        NaN           2   \n",
       "3                       NaN          NaN        NaN           5   \n",
       "4                       NaN          NaN        NaN           3   \n",
       "5                       NaN          NaN        NaN           4   \n",
       "...                     ...          ...        ...         ...   \n",
       "21833                   NaN          1ES        NaN           7   \n",
       "21834                   NaN          NaN        NaN           4   \n",
       "21835                   NaN          NaN        NaN           2   \n",
       "21836                   NaN         SVES        NaN           8   \n",
       "21837                   NaN          NaN        NaN           9   \n",
       "\n",
       "                      filename_lr                filename_hr  \n",
       "ecg_id                                                        \n",
       "1       records100/00000/00001_lr  records500/00000/00001_hr  \n",
       "2       records100/00000/00002_lr  records500/00000/00002_hr  \n",
       "3       records100/00000/00003_lr  records500/00000/00003_hr  \n",
       "4       records100/00000/00004_lr  records500/00000/00004_hr  \n",
       "5       records100/00000/00005_lr  records500/00000/00005_hr  \n",
       "...                           ...                        ...  \n",
       "21833   records100/21000/21833_lr  records500/21000/21833_hr  \n",
       "21834   records100/21000/21834_lr  records500/21000/21834_hr  \n",
       "21835   records100/21000/21835_lr  records500/21000/21835_hr  \n",
       "21836   records100/21000/21836_lr  records500/21000/21836_hr  \n",
       "21837   records100/21000/21837_lr  records500/21000/21837_hr  \n",
       "\n",
       "[21837 rows x 27 columns]"
      ]
     },
     "execution_count": 3,
     "metadata": {},
     "output_type": "execute_result"
    }
   ],
   "source": [
    "#Загрузили данные\n",
    "def load_raw_data(df, sampling_rate, path):\n",
    "    if sampling_rate == 100:\n",
    "        data = [wfdb.rdsamp(path+f) for f in df.filename_lr]\n",
    "    else:\n",
    "        data = [wfdb.rdsamp(path+f) for f in df.filename_hr]\n",
    "    data = np.array([signal for signal, meta in data])\n",
    "    return data\n",
    "\n",
    "path = ''\n",
    "sampling_rate=100\n",
    "\n",
    "  #load and convert annotation data\n",
    "Y = pd.read_csv(path+'ptbxl_database.csv', index_col='ecg_id')\n",
    "Y #pandas.dataframe"
   ]
  },
  {
   "cell_type": "code",
   "execution_count": 4,
   "metadata": {},
   "outputs": [
    {
     "name": "stdout",
     "output_type": "stream",
     "text": [
      "<class 'pandas.core.frame.DataFrame'>\n",
      "Int64Index: 21837 entries, 1 to 21837\n",
      "Data columns (total 27 columns):\n",
      " #   Column                        Non-Null Count  Dtype  \n",
      "---  ------                        --------------  -----  \n",
      " 0   patient_id                    21837 non-null  float64\n",
      " 1   age                           21748 non-null  float64\n",
      " 2   sex                           21837 non-null  int64  \n",
      " 3   height                        6983 non-null   float64\n",
      " 4   weight                        9429 non-null   float64\n",
      " 5   nurse                         20328 non-null  float64\n",
      " 6   site                          21819 non-null  float64\n",
      " 7   device                        21837 non-null  object \n",
      " 8   recording_date                21837 non-null  object \n",
      " 9   report                        21837 non-null  object \n",
      " 10  scp_codes                     21837 non-null  object \n",
      " 11  heart_axis                    13332 non-null  object \n",
      " 12  infarction_stadium1           5626 non-null   object \n",
      " 13  infarction_stadium2           103 non-null    object \n",
      " 14  validated_by                  12426 non-null  float64\n",
      " 15  second_opinion                21837 non-null  bool   \n",
      " 16  initial_autogenerated_report  21837 non-null  bool   \n",
      " 17  validated_by_human            21837 non-null  bool   \n",
      " 18  baseline_drift                1607 non-null   object \n",
      " 19  static_noise                  3262 non-null   object \n",
      " 20  burst_noise                   613 non-null    object \n",
      " 21  electrodes_problems           30 non-null     object \n",
      " 22  extra_beats                   1954 non-null   object \n",
      " 23  pacemaker                     293 non-null    object \n",
      " 24  strat_fold                    21837 non-null  int64  \n",
      " 25  filename_lr                   21837 non-null  object \n",
      " 26  filename_hr                   21837 non-null  object \n",
      "dtypes: bool(3), float64(7), int64(2), object(15)\n",
      "memory usage: 4.2+ MB\n"
     ]
    }
   ],
   "source": [
    "Y.info()"
   ]
  },
  {
   "cell_type": "code",
   "execution_count": 5,
   "metadata": {},
   "outputs": [],
   "source": [
    "Y.scp_codes = Y.scp_codes.apply(lambda x: ast.literal_eval(x))\n",
    "\n",
    "# Load raw signal data\n",
    "X = load_raw_data(Y, sampling_rate, path)\n",
    "\n",
    "# Load scp_statements.csv for diagnostic aggregation\n",
    "agg_df = pd.read_csv(path+'scp_statements.csv', index_col=0)\n",
    "agg_df = agg_df[agg_df.diagnostic == 1]"
   ]
  },
  {
   "cell_type": "code",
   "execution_count": 6,
   "metadata": {},
   "outputs": [
    {
     "data": {
      "text/plain": [
       "array([[[-0.145, -0.097,  0.049, ..., -0.452, -0.269, -0.032],\n",
       "        [-0.115, -0.083,  0.032, ..., -0.339, -0.246, -0.041],\n",
       "        [-0.064, -0.06 ,  0.005, ..., -0.188, -0.199, -0.04 ],\n",
       "        ...,\n",
       "        [ 0.23 ,  0.292,  0.063, ...,  0.443,  0.362,  0.222],\n",
       "        [ 0.251,  0.319,  0.067, ...,  0.498,  0.405,  0.261],\n",
       "        [ 0.338,  0.361,  0.023, ...,  0.515,  0.447,  0.299]],\n",
       "\n",
       "       [[ 0.182,  0.196,  0.013, ...,  0.413,  0.279,  0.284],\n",
       "        [ 0.23 ,  0.309,  0.079, ...,  0.524,  0.4  ,  0.402],\n",
       "        [ 0.125, -0.092, -0.217, ..., -0.002,  0.022,  0.181],\n",
       "        ...,\n",
       "        [-0.076, -0.085, -0.009, ..., -0.02 , -0.01 ,  0.032],\n",
       "        [-0.048, -0.067, -0.019, ...,  0.007,  0.002,  0.008],\n",
       "        [-0.04 , -0.053, -0.013, ...,  0.032,  0.022,  0.015]],\n",
       "\n",
       "       [[ 0.036,  0.025, -0.011, ...,  0.082,  0.067, -0.014],\n",
       "        [ 0.054,  0.044, -0.01 , ...,  0.11 ,  0.091,  0.003],\n",
       "        [ 0.095,  0.09 , -0.005, ...,  0.143,  0.123,  0.035],\n",
       "        ...,\n",
       "        [-0.261, -0.018,  0.242, ..., -0.039, -0.066, -0.082],\n",
       "        [-0.049, -0.039,  0.01 , ..., -0.043, -0.064, -0.2  ],\n",
       "        [ 0.071, -0.047, -0.118, ..., -0.049, -0.067, -0.082]],\n",
       "\n",
       "       ...,\n",
       "\n",
       "       [[-0.045, -0.055, -0.01 , ..., -0.145, -0.165, -0.124],\n",
       "        [-0.045, -0.055, -0.01 , ..., -0.142, -0.161, -0.119],\n",
       "        [-0.042, -0.056, -0.013, ..., -0.136, -0.154, -0.111],\n",
       "        ...,\n",
       "        [ 0.03 ,  0.147,  0.117, ..., -0.038, -0.101, -0.116],\n",
       "        [ 0.059,  0.158,  0.099, ..., -0.001, -0.09 , -0.107],\n",
       "        [ 0.076,  0.158,  0.082, ...,  0.017, -0.077, -0.098]],\n",
       "\n",
       "       [[-0.059, -0.023,  0.036, ...,  0.096,  0.031, -0.014],\n",
       "        [-0.033,  0.007,  0.04 , ...,  0.127,  0.056,  0.007],\n",
       "        [-0.004,  0.036,  0.04 , ...,  0.184,  0.108,  0.041],\n",
       "        ...,\n",
       "        [-0.029, -0.029,  0.   , ..., -0.072, -0.123, -0.173],\n",
       "        [-0.07 , -0.063,  0.007, ..., -0.115, -0.119, -0.224],\n",
       "        [-0.015, -0.048, -0.033, ..., -0.121, -0.121, -0.209]],\n",
       "\n",
       "       [[-0.031, -0.001,  0.03 , ...,  0.048,  0.024, -0.001],\n",
       "        [-0.015,  0.015,  0.03 , ...,  0.051,  0.024,  0.   ],\n",
       "        [-0.007,  0.018,  0.025, ...,  0.064,  0.021, -0.002],\n",
       "        ...,\n",
       "        [-0.109, -0.054,  0.055, ..., -0.057, -0.082, -0.09 ],\n",
       "        [-0.091, -0.067,  0.024, ...,  0.003, -0.047, -0.085],\n",
       "        [ 0.013, -0.237, -0.249, ...,  0.336,  0.267,  0.112]]])"
      ]
     },
     "execution_count": 6,
     "metadata": {},
     "output_type": "execute_result"
    }
   ],
   "source": [
    "def aggregate_diagnostic(y_dic):\n",
    "    tmp = []\n",
    "    for key in y_dic.keys():\n",
    "        if key in agg_df.index:\n",
    "            tmp.append(agg_df.loc[key].diagnostic_class)\n",
    "    return list(set(tmp))\n",
    "\n",
    "# Apply diagnostic superclass\n",
    "Y['diagnostic_superclass'] = Y.scp_codes.apply(aggregate_diagnostic)\n",
    "\n",
    "# Split data into train and test\n",
    "test_fold = 10\n",
    "# Train\n",
    "X_train = X[np.where(Y.strat_fold != test_fold)]\n",
    "y_train = Y[(Y.strat_fold != test_fold)].diagnostic_superclass\n",
    "# Test\n",
    "X_test = X[np.where(Y.strat_fold == test_fold)]\n",
    "y_test = Y[Y.strat_fold == test_fold].diagnostic_superclass\n",
    "\n",
    "X_test"
   ]
  },
  {
   "cell_type": "code",
   "execution_count": 7,
   "metadata": {},
   "outputs": [
    {
     "data": {
      "text/plain": [
       "ecg_id\n",
       "9        [NORM]\n",
       "38       [NORM]\n",
       "40       [NORM]\n",
       "57       [NORM]\n",
       "59       [NORM]\n",
       "          ...  \n",
       "21809    [NORM]\n",
       "21812      [CD]\n",
       "21818    [NORM]\n",
       "21819      [CD]\n",
       "21826      [MI]\n",
       "Name: diagnostic_superclass, Length: 2203, dtype: object"
      ]
     },
     "execution_count": 7,
     "metadata": {},
     "output_type": "execute_result"
    }
   ],
   "source": [
    "y_test"
   ]
  },
  {
   "cell_type": "markdown",
   "metadata": {},
   "source": [
    "Хотел использовать тензорфлоу, но в книге пособие для 1 версии\n",
    "Там достаточно низкоуровневая на тот еще момент библиотека \n",
    "сейчас тензорфлоу 2.0 -высокоуровневая библиотека\n",
    "\n"
   ]
  },
  {
   "cell_type": "code",
   "execution_count": 8,
   "metadata": {},
   "outputs": [],
   "source": [
    "import tensorflow as tf\n",
    "from tensorflow import keras\n",
    "from tensorflow.keras import layers"
   ]
  },
  {
   "cell_type": "code",
   "execution_count": 9,
   "metadata": {},
   "outputs": [],
   "source": [
    "# Define Sequential model with 3 layers\n",
    "#Sequential модель подходит для простого стека слоев, где каждый слой имеет ровно один входной тензор и один выходной тензор.\n",
    "model = keras.Sequential(\n",
    "    [\n",
    "        layers.Dense(2, activation=\"relu\", name=\"layer1\"),\n",
    "        layers.Dense(3, activation=\"relu\", name=\"layer2\"),\n",
    "        layers.Dense(4, name=\"layer3\"),\n",
    "    ]\n",
    ")\n",
    "# Call model on a test input\n",
    "x = tf.ones((3, 3)) #Создает тензор 3 на 3 со всеми элементами, равными единице (1).\n",
    "y = model(x)"
   ]
  },
  {
   "cell_type": "code",
   "execution_count": 10,
   "metadata": {},
   "outputs": [
    {
     "data": {
      "text/plain": [
       "[<tensorflow.python.keras.layers.core.Dense at 0x1b6c45ce490>,\n",
       " <tensorflow.python.keras.layers.core.Dense at 0x1b6c45e8cd0>,\n",
       " <tensorflow.python.keras.layers.core.Dense at 0x1b6c45e8a90>]"
      ]
     },
     "execution_count": 10,
     "metadata": {},
     "output_type": "execute_result"
    }
   ],
   "source": [
    "model.layers"
   ]
  },
  {
   "attachments": {
    "image.png": {
     "image/png": "[encoded data removed]"
    }
   },
   "cell_type": "markdown",
   "metadata": {},
   "source": [
    "![image.png](attachment:image.png)"
   ]
  },
  {
   "cell_type": "code",
   "execution_count": 11,
   "metadata": {},
   "outputs": [
    {
     "data": {
      "text/plain": [
       "[]"
      ]
     },
     "execution_count": 11,
     "metadata": {},
     "output_type": "execute_result"
    }
   ],
   "source": [
    "layer = layers.Dense(3)\n",
    "layer.weights  # Empty\n",
    "#Как правило, все слои в Keras должны знать форму своих входов, чтобы иметь возможность создавать свои веса. \n",
    "#Итак, когда вы создаете такой слой, изначально у него нет весов:"
   ]
  },
  {
   "cell_type": "markdown",
   "metadata": {},
   "source": [
    "Он создает свои веса при первом вызове на входе, поскольку форма весов зависит от формы входов:"
   ]
  },
  {
   "cell_type": "code",
   "execution_count": 12,
   "metadata": {},
   "outputs": [
    {
     "data": {
      "text/plain": [
       "[<tf.Variable 'dense/kernel:0' shape=(4, 3) dtype=float32, numpy=\n",
       " array([[ 0.04391831, -0.7811583 ,  0.38403034],\n",
       "        [-0.10516191, -0.29200178, -0.8739347 ],\n",
       "        [-0.49406007,  0.5296713 ,  0.3559686 ],\n",
       "        [-0.23089546, -0.7406137 , -0.4862002 ]], dtype=float32)>,\n",
       " <tf.Variable 'dense/bias:0' shape=(3,) dtype=float32, numpy=array([0., 0., 0.], dtype=float32)>]"
      ]
     },
     "execution_count": 12,
     "metadata": {},
     "output_type": "execute_result"
    }
   ],
   "source": [
    "# Call layer on a test input\n",
    "x = tf.ones((1, 4))\n",
    "y = layer(x)\n",
    "layer.weights  # Now it has weights, of shape (4, 3) and (3,)"
   ]
  },
  {
   "cell_type": "markdown",
   "metadata": {},
   "source": [
    "Когда модель «построена», вы можете вызвать ее метод summary() для отображения ее содержимого:"
   ]
  },
  {
   "cell_type": "code",
   "execution_count": 13,
   "metadata": {},
   "outputs": [
    {
     "name": "stdout",
     "output_type": "stream",
     "text": [
      "Model: \"sequential\"\n",
      "_________________________________________________________________\n",
      "Layer (type)                 Output Shape              Param #   \n",
      "=================================================================\n",
      "layer1 (Dense)               (3, 2)                    8         \n",
      "_________________________________________________________________\n",
      "layer2 (Dense)               (3, 3)                    9         \n",
      "_________________________________________________________________\n",
      "layer3 (Dense)               (3, 4)                    16        \n",
      "=================================================================\n",
      "Total params: 33\n",
      "Trainable params: 33\n",
      "Non-trainable params: 0\n",
      "_________________________________________________________________\n"
     ]
    }
   ],
   "source": [
    "model.summary()"
   ]
  },
  {
   "cell_type": "markdown",
   "metadata": {},
   "source": [
    "рекомендуется всегда заранее указывать входную форму последовательной модели, если вы знаете, что это такое."
   ]
  },
  {
   "cell_type": "code",
   "execution_count": 14,
   "metadata": {},
   "outputs": [
    {
     "name": "stdout",
     "output_type": "stream",
     "text": [
      "Model: \"sequential_1\"\n",
      "_________________________________________________________________\n",
      "Layer (type)                 Output Shape              Param #   \n",
      "=================================================================\n",
      "dense_1 (Dense)              (None, 2)                 10        \n",
      "=================================================================\n",
      "Total params: 10\n",
      "Trainable params: 10\n",
      "Non-trainable params: 0\n",
      "_________________________________________________________________\n"
     ]
    }
   ],
   "source": [
    "model = keras.Sequential()\n",
    "model.add(keras.Input(shape=(4,)))\n",
    "model.add(layers.Dense(2, activation=\"relu\"))\n",
    "\n",
    "model.summary()"
   ]
  },
  {
   "cell_type": "markdown",
   "metadata": {},
   "source": [
    "Обычный рабочий процесс отладки: add() + summary():"
   ]
  },
  {
   "cell_type": "markdown",
   "metadata": {},
   "source": [
    "При построении новой последовательной архитектуры полезно постепенно складывать слои с помощью add() и часто распечатывать сводки моделей. Например, это позволяет вам отслеживать, как стек Conv2D и MaxPooling2D дискретизацию карт функций изображения:\n"
   ]
  },
  {
   "cell_type": "code",
   "execution_count": 15,
   "metadata": {},
   "outputs": [],
   "source": [
    "model = keras.Sequential()\n",
    "model.add(keras.Input(shape=(250, 250, 3)))  # 250x250 RGB images\n",
    "model.add(layers.Conv2D(32, 5, strides=2, activation=\"relu\"))\n",
    "model.add(layers.Conv2D(32, 3, activation=\"relu\"))\n",
    "model.add(layers.MaxPooling2D(3))"
   ]
  },
  {
   "cell_type": "code",
   "execution_count": 16,
   "metadata": {},
   "outputs": [
    {
     "name": "stdout",
     "output_type": "stream",
     "text": [
      "Model: \"sequential_2\"\n",
      "_________________________________________________________________\n",
      "Layer (type)                 Output Shape              Param #   \n",
      "=================================================================\n",
      "conv2d (Conv2D)              (None, 123, 123, 32)      2432      \n",
      "_________________________________________________________________\n",
      "conv2d_1 (Conv2D)            (None, 121, 121, 32)      9248      \n",
      "_________________________________________________________________\n",
      "max_pooling2d (MaxPooling2D) (None, 40, 40, 32)        0         \n",
      "=================================================================\n",
      "Total params: 11,680\n",
      "Trainable params: 11,680\n",
      "Non-trainable params: 0\n",
      "_________________________________________________________________\n"
     ]
    }
   ],
   "source": [
    "# Can you guess what the current output shape is at this point? Probably not.\n",
    "# Let's just print it:\n",
    "model.summary()"
   ]
  },
  {
   "cell_type": "code",
   "execution_count": 17,
   "metadata": {},
   "outputs": [],
   "source": [
    "# The answer was: (40, 40, 32), so we can keep downsampling...\n",
    "\n",
    "model.add(layers.Conv2D(32, 3, activation=\"relu\"))\n",
    "model.add(layers.Conv2D(32, 3, activation=\"relu\"))\n",
    "model.add(layers.MaxPooling2D(3))\n",
    "model.add(layers.Conv2D(32, 3, activation=\"relu\"))\n",
    "model.add(layers.Conv2D(32, 3, activation=\"relu\"))\n",
    "model.add(layers.MaxPooling2D(2))\n"
   ]
  },
  {
   "cell_type": "code",
   "execution_count": 18,
   "metadata": {},
   "outputs": [
    {
     "name": "stdout",
     "output_type": "stream",
     "text": [
      "Model: \"sequential_2\"\n",
      "_________________________________________________________________\n",
      "Layer (type)                 Output Shape              Param #   \n",
      "=================================================================\n",
      "conv2d (Conv2D)              (None, 123, 123, 32)      2432      \n",
      "_________________________________________________________________\n",
      "conv2d_1 (Conv2D)            (None, 121, 121, 32)      9248      \n",
      "_________________________________________________________________\n",
      "max_pooling2d (MaxPooling2D) (None, 40, 40, 32)        0         \n",
      "_________________________________________________________________\n",
      "conv2d_2 (Conv2D)            (None, 38, 38, 32)        9248      \n",
      "_________________________________________________________________\n",
      "conv2d_3 (Conv2D)            (None, 36, 36, 32)        9248      \n",
      "_________________________________________________________________\n",
      "max_pooling2d_1 (MaxPooling2 (None, 12, 12, 32)        0         \n",
      "_________________________________________________________________\n",
      "conv2d_4 (Conv2D)            (None, 10, 10, 32)        9248      \n",
      "_________________________________________________________________\n",
      "conv2d_5 (Conv2D)            (None, 8, 8, 32)          9248      \n",
      "_________________________________________________________________\n",
      "max_pooling2d_2 (MaxPooling2 (None, 4, 4, 32)          0         \n",
      "=================================================================\n",
      "Total params: 48,672\n",
      "Trainable params: 48,672\n",
      "Non-trainable params: 0\n",
      "_________________________________________________________________\n"
     ]
    }
   ],
   "source": [
    "# And now?\n",
    "model.summary()\n"
   ]
  },
  {
   "cell_type": "code",
   "execution_count": 19,
   "metadata": {},
   "outputs": [],
   "source": [
    "# Now that we have 4x4 feature maps, time to apply global max pooling.\n",
    "model.add(layers.GlobalMaxPooling2D())"
   ]
  },
  {
   "cell_type": "code",
   "execution_count": 20,
   "metadata": {},
   "outputs": [],
   "source": [
    "# Finally, we add a classification layer.\n",
    "model.add(layers.Dense(10))"
   ]
  },
  {
   "cell_type": "code",
   "execution_count": null,
   "metadata": {},
   "outputs": [],
   "source": []
  },
  {
   "cell_type": "code",
   "execution_count": null,
   "metadata": {},
   "outputs": [],
   "source": []
  },
  {
   "cell_type": "code",
   "execution_count": null,
   "metadata": {},
   "outputs": [],
   "source": []
  },
  {
   "cell_type": "code",
   "execution_count": null,
   "metadata": {},
   "outputs": [],
   "source": []
  },
  {
   "cell_type": "code",
   "execution_count": null,
   "metadata": {},
   "outputs": [],
   "source": []
  },
  {
   "cell_type": "code",
   "execution_count": null,
   "metadata": {},
   "outputs": [],
   "source": []
  },
  {
   "cell_type": "code",
   "execution_count": 21,
   "metadata": {},
   "outputs": [
    {
     "ename": "NameError",
     "evalue": "name 'X_val' is not defined",
     "output_type": "error",
     "traceback": [
      "\u001b[1;31m---------------------------------------------------------------------------\u001b[0m",
      "\u001b[1;31mNameError\u001b[0m                                 Traceback (most recent call last)",
      "\u001b[1;32m<ipython-input-21-870c35df7b63>\u001b[0m in \u001b[0;36m<module>\u001b[1;34m\u001b[0m\n\u001b[0;32m      1\u001b[0m model=model.fit(X_train, y_train, \n\u001b[1;32m----> 2\u001b[1;33m           \u001b[0mvalidation_data\u001b[0m\u001b[1;33m=\u001b[0m\u001b[1;33m(\u001b[0m\u001b[0mX_val\u001b[0m\u001b[1;33m,\u001b[0m \u001b[0mY_val\u001b[0m\u001b[1;33m)\u001b[0m\u001b[1;33m,\u001b[0m\u001b[1;33m\u001b[0m\u001b[1;33m\u001b[0m\u001b[0m\n\u001b[0m\u001b[0;32m      3\u001b[0m           epochs=50, batch_size=32)\n\u001b[0;32m      4\u001b[0m \u001b[1;31m#те не нужно самому создавать граф, все сделано в это йстроке\u001b[0m\u001b[1;33m\u001b[0m\u001b[1;33m\u001b[0m\u001b[1;33m\u001b[0m\u001b[0m\n",
      "\u001b[1;31mNameError\u001b[0m: name 'X_val' is not defined"
     ]
    }
   ],
   "source": [
    "model=model.fit(X_train, y_train, \n",
    "          validation_data=(X_val, Y_val),\n",
    "          epochs=50, batch_size=32)\n",
    "#те не нужно самому создавать граф, все сделано в это йстроке"
   ]
  },
  {
   "cell_type": "code",
   "execution_count": null,
   "metadata": {},
   "outputs": [],
   "source": []
  },
  {
   "cell_type": "code",
   "execution_count": null,
   "metadata": {},
   "outputs": [],
   "source": []
  },
  {
   "cell_type": "code",
   "execution_count": null,
   "metadata": {},
   "outputs": [],
   "source": []
  },
  {
   "cell_type": "code",
   "execution_count": null,
   "metadata": {},
   "outputs": [],
   "source": []
  },
  {
   "cell_type": "code",
   "execution_count": null,
   "metadata": {},
   "outputs": [],
   "source": []
  },
  {
   "cell_type": "code",
   "execution_count": null,
   "metadata": {},
   "outputs": [],
   "source": []
  }
 ],
 "metadata": {
  "kernelspec": {
   "display_name": "Python 3",
   "language": "python",
   "name": "python3"
  },
  "language_info": {
   "codemirror_mode": {
    "name": "ipython",
    "version": 3
   },
   "file_extension": ".py",
   "mimetype": "text/x-python",
   "name": "python",
   "nbconvert_exporter": "python",
   "pygments_lexer": "ipython3",
   "version": "3.8.3"
  }
 },
 "nbformat": 4,
 "nbformat_minor": 4
}
